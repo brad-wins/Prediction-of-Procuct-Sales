{
  "nbformat": 4,
  "nbformat_minor": 0,
  "metadata": {
    "colab": {
      "provenance": [],
      "authorship_tag": "ABX9TyM1zabVjo7iXZvooJ81Uqb+",
      "include_colab_link": true
    },
    "kernelspec": {
      "name": "python3",
      "display_name": "Python 3"
    },
    "language_info": {
      "name": "python"
    }
  },
  "cells": [
    {
      "cell_type": "markdown",
      "metadata": {
        "id": "view-in-github",
        "colab_type": "text"
      },
      "source": [
        "<a href=\"https://colab.research.google.com/github/brad-wins/Prediction-of-Procuct-Sales/blob/main/Brad's_Prediction_of_Product_Sales.ipynb\" target=\"_parent\"><img src=\"https://colab.research.google.com/assets/colab-badge.svg\" alt=\"Open In Colab\"/></a>"
      ]
    },
    {
      "cell_type": "markdown",
      "source": [
        "# Prediction of Product Sales \n",
        "Brad Winsbury\n",
        "\n",
        "# Project Overview"
      ],
      "metadata": {
        "id": "lgtWfDlN9_ax"
      }
    },
    {
      "cell_type": "markdown",
      "source": [
        "# Load and Inspect Data"
      ],
      "metadata": {
        "id": "F_BfuqAW-eFC"
      }
    },
    {
      "cell_type": "code",
      "source": [],
      "metadata": {
        "id": "o0BEpmq_-jkf"
      },
      "execution_count": null,
      "outputs": []
    },
    {
      "cell_type": "markdown",
      "source": [
        "# Clean Data "
      ],
      "metadata": {
        "id": "yNRYzwTE-j64"
      }
    },
    {
      "cell_type": "code",
      "source": [],
      "metadata": {
        "id": "eYK3s_GR-nVd"
      },
      "execution_count": null,
      "outputs": []
    },
    {
      "cell_type": "markdown",
      "source": [
        "# Exploratory Data Analysis"
      ],
      "metadata": {
        "id": "zb_5hF8w-nld"
      }
    },
    {
      "cell_type": "code",
      "source": [],
      "metadata": {
        "id": "a7xoGa3y-qk9"
      },
      "execution_count": null,
      "outputs": []
    },
    {
      "cell_type": "markdown",
      "source": [
        "# Exploratory Data Analysis"
      ],
      "metadata": {
        "id": "ZZzsb75X-q0i"
      }
    },
    {
      "cell_type": "code",
      "source": [],
      "metadata": {
        "id": "BbSqS73z-zV_"
      },
      "execution_count": null,
      "outputs": []
    }
  ]
}